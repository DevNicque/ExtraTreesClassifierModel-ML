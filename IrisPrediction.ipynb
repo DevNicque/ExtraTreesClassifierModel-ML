{
  "nbformat": 4,
  "nbformat_minor": 0,
  "metadata": {
    "colab": {
      "name": "IrisPrediction.ipynb",
      "provenance": [],
      "toc_visible": true,
      "authorship_tag": "ABX9TyNrIdEnZ8AVEatA0FqZisuo",
      "include_colab_link": true
    },
    "kernelspec": {
      "name": "python3",
      "display_name": "Python 3"
    }
  },
  "cells": [
    {
      "cell_type": "markdown",
      "metadata": {
        "id": "view-in-github",
        "colab_type": "text"
      },
      "source": [
        "<a href=\"https://colab.research.google.com/github/DevNicque/ExtraTreesClassifierModel-ML/blob/master/IrisPrediction.ipynb\" target=\"_parent\"><img src=\"https://colab.research.google.com/assets/colab-badge.svg\" alt=\"Open In Colab\"/></a>"
      ]
    },
    {
      "cell_type": "markdown",
      "metadata": {
        "id": "rVKqIKs9stRf"
      },
      "source": [
        "> <p align=\"justify\">\r\n",
        "\r\n",
        "**Autor(a):** Andrea Monicque dos Santos Silva\r\n",
        "\r\n",
        "**Email:** *amonicquesantos@gmail.com*\r\n",
        "\r\n",
        "**Github:** *https://github.com/DevNicque*\r\n",
        "\r\n",
        "**Linkedin:** *https://www.linkedin.com/in/andreamonicque-0476/* \r\n",
        "</p>\r\n",
        "\r\n",
        "---\r\n",
        "\r\n"
      ]
    },
    {
      "cell_type": "markdown",
      "metadata": {
        "id": "wf6zTuEoL6FP"
      },
      "source": [
        "# **Projeto ML - Predição de Iris**\r\n",
        "\r\n",
        "---\r\n",
        "\r\n",
        "\r\n",
        "\r\n",
        "<p align=\"justify\">\r\n",
        "\r\n",
        "*   Neste projeto foi utilizado o Modelo Extra Trees Classifier \r\n",
        "*   Um modelo altamente poderoso que combina as predições de várias árvores de decisão gerando um melhor resultado\r\n",
        "*   Com o objetivo de predizer espécies de Iris (flor) à partir do dataset Iris\r\n",
        "*   O dataset contém informações sobre características de 3 tipos de flores: Iris Setosa, Iris Versicolor e Iris Virginica\r\n",
        "*   Documentação Modelo: https://scikit-learn.org/stable/modules/generated/sklearn.ensemble.ExtraTreesClassifier.html\r\n",
        "*   Dataset: http://archive.ics.uci.edu/ml/datasets/Iris\r\n",
        "\r\n",
        "</p>\r\n"
      ]
    },
    {
      "cell_type": "markdown",
      "metadata": {
        "id": "O32fHw0mrV9R"
      },
      "source": [
        "## **Visão Geral**\r\n",
        "\r\n",
        "\r\n",
        "> <p align=\"justify\"> \r\n",
        "Diante da diversidade de flora com inúmeras espécies de plantas, utiliza-se do conhecimento de características específicas para a identificação das mesmas. Um trabalho difícil, visto que não se tem todas as informações centralizadas em uma fonte de forma acessível que possibilite consultas a partir dessas características, como um app, site, geralmente sendo feito de formas mais trabalhosas. A proposta é criar um classificador que consiga predizer e identificar plantas à partir de suas características, viabilizando uma possível forma acessível e assertiva para o usuário final. \r\n",
        " </p>\r\n",
        "\r\n"
      ]
    },
    {
      "cell_type": "markdown",
      "metadata": {
        "id": "oIHilgSrroK1"
      },
      "source": [
        "## **Objetivo**\r\n",
        "\r\n",
        "> <p align=\"justify\"> O objetivo consiste em treinar modelo de machine learning para classificação de especies de iris, com o intuito de realizar predições dessas espécies. \r\n",
        "</p>"
      ]
    },
    {
      "cell_type": "markdown",
      "metadata": {
        "id": "smUvjoPSrvp5"
      },
      "source": [
        "## **Metodologia Geral**\r\n",
        "\r\n",
        "> <p align=\"justify\"> \r\n",
        "\r\n",
        "1. Aquisição dos Dados\r\n",
        "2. Compreensão dos dados\r\n",
        "3. Processamento dos Dados\r\n",
        "4. Modelado\r\n",
        "5. Avaliação\r\n",
        "</p>"
      ]
    },
    {
      "cell_type": "markdown",
      "metadata": {
        "id": "Uk9YNb_XsDRM"
      },
      "source": [
        "## **Estrutura do Notebook**\r\n",
        "\r\n",
        "> <p align=\"justify\"> \r\n",
        "\r\n",
        "1. Aquisição\r\n",
        "2. Pré-processamento\r\n",
        "3. Modelo ML\r\n",
        "4. Avaliação\r\n",
        "5. Conclusão\r\n",
        "</p>"
      ]
    },
    {
      "cell_type": "markdown",
      "metadata": {
        "id": "n8Y4f_LDPIeE"
      },
      "source": [
        "#**Aquisição**"
      ]
    },
    {
      "cell_type": "markdown",
      "metadata": {
        "id": "LY1K04EgPf9W"
      },
      "source": [
        "**Importando bibliotecas necessárias**"
      ]
    },
    {
      "cell_type": "markdown",
      "metadata": {
        "id": "eBC96AZP8Vi_"
      },
      "source": [
        "<p align=\"justify\">\r\n",
        "\r\n",
        "*  Sklearn, uma biblioteca de aprendizagem de máquina para python, é utilizada neste projeto para exportação de algoritmos e funções como Extra Tress Classifier, algoritmo escolhido como modelo de predição, Train test split, função utilizada para divisão e criação dos conjuntos de teste e treino, accuracy_score, confusion_matrix, classification_report, f1_score,recall_score , métricas utilizadas para avaliar o resultado do modelo. \r\n",
        "\r\n",
        "*  Também se faz uso das bibliotecas pandas, numpy, searborn utilizadas respectivamente para análise e manipulação de dados, criação de arrays e plotagem de gráficos para dispor uma análise visual dos resultados.\r\n",
        "</p>"
      ]
    },
    {
      "cell_type": "code",
      "metadata": {
        "id": "nDfmR2mKKUjz"
      },
      "source": [
        "from sklearn.ensemble import ExtraTreesClassifier\r\n",
        "from sklearn.model_selection import train_test_split\r\n",
        "from sklearn.metrics import accuracy_score, confusion_matrix as cm, classification_report, f1_score,recall_score\r\n",
        "import pandas as pd\r\n",
        "import numpy as np\r\n",
        "import seaborn as sns"
      ],
      "execution_count": null,
      "outputs": []
    },
    {
      "cell_type": "markdown",
      "metadata": {
        "id": "rLSKMGxtPqlq"
      },
      "source": [
        "**Importação do dataset**"
      ]
    },
    {
      "cell_type": "markdown",
      "metadata": {
        "id": "4qopzOOe__0i"
      },
      "source": [
        "<p align=\"justify\">\r\n",
        "O dataset é coletado do site da UCI Machine Learning Repository em formato csv, em seguida convertido para dataframe, possibilitando manipulação deste através da biblioteca pandas.\r\n",
        "</p>"
      ]
    },
    {
      "cell_type": "code",
      "metadata": {
        "id": "3c-wMQ_ULsSd"
      },
      "source": [
        "path = 'http://archive.ics.uci.edu/ml/machine-learning-databases/iris/'\r\n",
        "df = pd.read_csv(path + 'iris.data', sep=',', names=['sepal_length', 'sepal_width', 'petal_length', 'petal_width', 'class'])"
      ],
      "execution_count": null,
      "outputs": []
    },
    {
      "cell_type": "code",
      "metadata": {
        "colab": {
          "base_uri": "https://localhost:8080/",
          "height": 204
        },
        "id": "6Hilb3MVR5Tu",
        "outputId": "22f2552b-e68a-436c-864b-b2c2be6a395b"
      },
      "source": [
        "df.head()"
      ],
      "execution_count": null,
      "outputs": [
        {
          "output_type": "execute_result",
          "data": {
            "text/html": [
              "<div>\n",
              "<style scoped>\n",
              "    .dataframe tbody tr th:only-of-type {\n",
              "        vertical-align: middle;\n",
              "    }\n",
              "\n",
              "    .dataframe tbody tr th {\n",
              "        vertical-align: top;\n",
              "    }\n",
              "\n",
              "    .dataframe thead th {\n",
              "        text-align: right;\n",
              "    }\n",
              "</style>\n",
              "<table border=\"1\" class=\"dataframe\">\n",
              "  <thead>\n",
              "    <tr style=\"text-align: right;\">\n",
              "      <th></th>\n",
              "      <th>sepal_length</th>\n",
              "      <th>sepal_width</th>\n",
              "      <th>petal_length</th>\n",
              "      <th>petal_width</th>\n",
              "      <th>class</th>\n",
              "    </tr>\n",
              "  </thead>\n",
              "  <tbody>\n",
              "    <tr>\n",
              "      <th>0</th>\n",
              "      <td>5.1</td>\n",
              "      <td>3.5</td>\n",
              "      <td>1.4</td>\n",
              "      <td>0.2</td>\n",
              "      <td>Iris-setosa</td>\n",
              "    </tr>\n",
              "    <tr>\n",
              "      <th>1</th>\n",
              "      <td>4.9</td>\n",
              "      <td>3.0</td>\n",
              "      <td>1.4</td>\n",
              "      <td>0.2</td>\n",
              "      <td>Iris-setosa</td>\n",
              "    </tr>\n",
              "    <tr>\n",
              "      <th>2</th>\n",
              "      <td>4.7</td>\n",
              "      <td>3.2</td>\n",
              "      <td>1.3</td>\n",
              "      <td>0.2</td>\n",
              "      <td>Iris-setosa</td>\n",
              "    </tr>\n",
              "    <tr>\n",
              "      <th>3</th>\n",
              "      <td>4.6</td>\n",
              "      <td>3.1</td>\n",
              "      <td>1.5</td>\n",
              "      <td>0.2</td>\n",
              "      <td>Iris-setosa</td>\n",
              "    </tr>\n",
              "    <tr>\n",
              "      <th>4</th>\n",
              "      <td>5.0</td>\n",
              "      <td>3.6</td>\n",
              "      <td>1.4</td>\n",
              "      <td>0.2</td>\n",
              "      <td>Iris-setosa</td>\n",
              "    </tr>\n",
              "  </tbody>\n",
              "</table>\n",
              "</div>"
            ],
            "text/plain": [
              "   sepal_length  sepal_width  petal_length  petal_width        class\n",
              "0           5.1          3.5           1.4          0.2  Iris-setosa\n",
              "1           4.9          3.0           1.4          0.2  Iris-setosa\n",
              "2           4.7          3.2           1.3          0.2  Iris-setosa\n",
              "3           4.6          3.1           1.5          0.2  Iris-setosa\n",
              "4           5.0          3.6           1.4          0.2  Iris-setosa"
            ]
          },
          "metadata": {
            "tags": []
          },
          "execution_count": 3
        }
      ]
    },
    {
      "cell_type": "markdown",
      "metadata": {
        "id": "LJy_-9K6YmpL"
      },
      "source": [
        "**Análise do dataset**\r\n",
        "\r\n",
        "\r\n",
        "*   O dataset possui 150 registros e 5 colunas\r\n",
        "*   Não há presença de valores nulos ou faltantes\r\n",
        "*   Os dados estão balanceados com 50 amostras para cada tipo de flor\r\n",
        "*   Todos os dados de características da flor - comprimento, largura da sépala e da pétala - são numéricos do tipo float\r\n",
        "\r\n",
        "\r\n"
      ]
    },
    {
      "cell_type": "code",
      "metadata": {
        "colab": {
          "base_uri": "https://localhost:8080/"
        },
        "id": "zlh-y0iLYfAW",
        "outputId": "714ebdf1-f3c1-4e3b-fdf7-07a49088ac1e"
      },
      "source": [
        "df.info()"
      ],
      "execution_count": null,
      "outputs": [
        {
          "output_type": "stream",
          "text": [
            "<class 'pandas.core.frame.DataFrame'>\n",
            "RangeIndex: 150 entries, 0 to 149\n",
            "Data columns (total 5 columns):\n",
            " #   Column        Non-Null Count  Dtype  \n",
            "---  ------        --------------  -----  \n",
            " 0   sepal_length  150 non-null    float64\n",
            " 1   sepal_width   150 non-null    float64\n",
            " 2   petal_length  150 non-null    float64\n",
            " 3   petal_width   150 non-null    float64\n",
            " 4   class         150 non-null    object \n",
            "dtypes: float64(4), object(1)\n",
            "memory usage: 6.0+ KB\n"
          ],
          "name": "stdout"
        }
      ]
    },
    {
      "cell_type": "code",
      "metadata": {
        "colab": {
          "base_uri": "https://localhost:8080/"
        },
        "id": "JZJxwbQ0g5T2",
        "outputId": "ce7921ad-fbaf-4796-f264-72f562f063da"
      },
      "source": [
        "df.isnull().sum()"
      ],
      "execution_count": null,
      "outputs": [
        {
          "output_type": "execute_result",
          "data": {
            "text/plain": [
              "sepal_length    0\n",
              "sepal_width     0\n",
              "petal_length    0\n",
              "petal_width     0\n",
              "class           0\n",
              "dtype: int64"
            ]
          },
          "metadata": {
            "tags": []
          },
          "execution_count": 5
        }
      ]
    },
    {
      "cell_type": "code",
      "metadata": {
        "colab": {
          "base_uri": "https://localhost:8080/"
        },
        "id": "jiG5Hc3WhZXP",
        "outputId": "12312088-1bad-468b-9e3e-e99d388a31a3"
      },
      "source": [
        "df['class'].value_counts()"
      ],
      "execution_count": null,
      "outputs": [
        {
          "output_type": "execute_result",
          "data": {
            "text/plain": [
              "Iris-versicolor    50\n",
              "Iris-virginica     50\n",
              "Iris-setosa        50\n",
              "Name: class, dtype: int64"
            ]
          },
          "metadata": {
            "tags": []
          },
          "execution_count": 6
        }
      ]
    },
    {
      "cell_type": "code",
      "metadata": {
        "colab": {
          "base_uri": "https://localhost:8080/",
          "height": 279
        },
        "id": "Sl-LrUsoh0Rh",
        "outputId": "087e3e74-a4ba-4c0e-d863-d3f35abfc05a"
      },
      "source": [
        "ax = sns.countplot(x='class', data=df)"
      ],
      "execution_count": null,
      "outputs": [
        {
          "output_type": "display_data",
          "data": {
            "image/png": "[encoded data removed]",
            "text/plain": [
              "<Figure size 432x288 with 1 Axes>"
            ]
          },
          "metadata": {
            "tags": [],
            "needs_background": "light"
          }
        }
      ]
    },
    {
      "cell_type": "markdown",
      "metadata": {
        "id": "E7ABs_yXPPpl"
      },
      "source": [
        "#**Pré-processamento**"
      ]
    },
    {
      "cell_type": "markdown",
      "metadata": {
        "id": "2mYn9G6jTiLd"
      },
      "source": [
        "**Transformando o atributo target, \"class\", que está em formato categórico para formato numérico**\r\n",
        "\r\n",
        "\r\n",
        "*   Isso é realizado para que o modelo consiga calcular\r\n",
        "*   iris-setosa foi classificada como 1\r\n",
        "*   iris-versicolor foi classificada como 2\r\n",
        "*   iris-virginica foi classificada como 3\r\n",
        "\r\n",
        "\r\n"
      ]
    },
    {
      "cell_type": "code",
      "metadata": {
        "id": "Qpauo5sjPVN2"
      },
      "source": [
        "df['class'] = df['class'].str.lower().replace('iris-setosa','1')\r\n",
        "df['class'] = df['class'].str.lower().replace('iris-versicolor','2')\r\n",
        "df['class'] = df['class'].str.lower().replace('iris-virginica','3')\r\n"
      ],
      "execution_count": null,
      "outputs": []
    },
    {
      "cell_type": "markdown",
      "metadata": {
        "id": "mD7vhgDkSPRN"
      },
      "source": [
        "**Resultado**"
      ]
    },
    {
      "cell_type": "code",
      "metadata": {
        "colab": {
          "base_uri": "https://localhost:8080/",
          "height": 204
        },
        "id": "UWZUSKbKXFPS",
        "outputId": "4188de5e-7813-4f12-a2a2-b858cd014344"
      },
      "source": [
        "df.head()"
      ],
      "execution_count": null,
      "outputs": [
        {
          "output_type": "execute_result",
          "data": {
            "text/html": [
              "<div>\n",
              "<style scoped>\n",
              "    .dataframe tbody tr th:only-of-type {\n",
              "        vertical-align: middle;\n",
              "    }\n",
              "\n",
              "    .dataframe tbody tr th {\n",
              "        vertical-align: top;\n",
              "    }\n",
              "\n",
              "    .dataframe thead th {\n",
              "        text-align: right;\n",
              "    }\n",
              "</style>\n",
              "<table border=\"1\" class=\"dataframe\">\n",
              "  <thead>\n",
              "    <tr style=\"text-align: right;\">\n",
              "      <th></th>\n",
              "      <th>sepal_length</th>\n",
              "      <th>sepal_width</th>\n",
              "      <th>petal_length</th>\n",
              "      <th>petal_width</th>\n",
              "      <th>class</th>\n",
              "    </tr>\n",
              "  </thead>\n",
              "  <tbody>\n",
              "    <tr>\n",
              "      <th>0</th>\n",
              "      <td>5.1</td>\n",
              "      <td>3.5</td>\n",
              "      <td>1.4</td>\n",
              "      <td>0.2</td>\n",
              "      <td>1</td>\n",
              "    </tr>\n",
              "    <tr>\n",
              "      <th>1</th>\n",
              "      <td>4.9</td>\n",
              "      <td>3.0</td>\n",
              "      <td>1.4</td>\n",
              "      <td>0.2</td>\n",
              "      <td>1</td>\n",
              "    </tr>\n",
              "    <tr>\n",
              "      <th>2</th>\n",
              "      <td>4.7</td>\n",
              "      <td>3.2</td>\n",
              "      <td>1.3</td>\n",
              "      <td>0.2</td>\n",
              "      <td>1</td>\n",
              "    </tr>\n",
              "    <tr>\n",
              "      <th>3</th>\n",
              "      <td>4.6</td>\n",
              "      <td>3.1</td>\n",
              "      <td>1.5</td>\n",
              "      <td>0.2</td>\n",
              "      <td>1</td>\n",
              "    </tr>\n",
              "    <tr>\n",
              "      <th>4</th>\n",
              "      <td>5.0</td>\n",
              "      <td>3.6</td>\n",
              "      <td>1.4</td>\n",
              "      <td>0.2</td>\n",
              "      <td>1</td>\n",
              "    </tr>\n",
              "  </tbody>\n",
              "</table>\n",
              "</div>"
            ],
            "text/plain": [
              "   sepal_length  sepal_width  petal_length  petal_width class\n",
              "0           5.1          3.5           1.4          0.2     1\n",
              "1           4.9          3.0           1.4          0.2     1\n",
              "2           4.7          3.2           1.3          0.2     1\n",
              "3           4.6          3.1           1.5          0.2     1\n",
              "4           5.0          3.6           1.4          0.2     1"
            ]
          },
          "metadata": {
            "tags": []
          },
          "execution_count": 9
        }
      ]
    },
    {
      "cell_type": "code",
      "metadata": {
        "colab": {
          "base_uri": "https://localhost:8080/"
        },
        "id": "YFh-Fj4Zi29T",
        "outputId": "a87d4671-e472-4853-c16f-1893368cd6bd"
      },
      "source": [
        "df['class'].value_counts().sort_values(ascending=False)"
      ],
      "execution_count": null,
      "outputs": [
        {
          "output_type": "execute_result",
          "data": {
            "text/plain": [
              "3    50\n",
              "1    50\n",
              "2    50\n",
              "Name: class, dtype: int64"
            ]
          },
          "metadata": {
            "tags": []
          },
          "execution_count": 10
        }
      ]
    },
    {
      "cell_type": "markdown",
      "metadata": {
        "id": "BuAfReDuBgi9"
      },
      "source": [
        "<p align=\"justify\">\r\n",
        "Após analisar o dataset, não foi visto necessário realizar nenhum outro\r\n",
        "tratamento além da formatação do atributo target,\r\n",
        "estando os dados preparados para serem recebidos pelo modelo.\r\n",
        "</p>"
      ]
    },
    {
      "cell_type": "markdown",
      "metadata": {
        "id": "JIVsuOe9PWxl"
      },
      "source": [
        "#**Modelo ML**"
      ]
    },
    {
      "cell_type": "markdown",
      "metadata": {
        "id": "yM8rmWN27hjs"
      },
      "source": [
        "<p align=\"justify\">\r\n",
        "O algoritmo Extra Trees funciona criando um grande número de árvores de decisão não ajustadas a partir do conjunto de dados de treinamento. As previsões são feitas calculando a média da previsão das árvores de decisão no caso de regressão ou usando a votação por maioria no caso de classificação.\r\n",
        "\r\n",
        "---\r\n",
        "\r\n",
        "\r\n",
        "\r\n",
        "*   Regressão : previsões feitas calculando a média das previsões das árvores de decisão.\r\n",
        "\r\n",
        "*   Classificação : Previsões feitas por votação majoritária de árvores de decisão.\r\n",
        "\r\n",
        "\r\n",
        "</p>\r\n",
        "\r\n"
      ]
    },
    {
      "cell_type": "markdown",
      "metadata": {
        "id": "pcvzyL_T8HQv"
      },
      "source": [
        "*   Diferente dos algoritmos bagging e random forest, o algoritmo Extra Trees ajusta cada árvore de decisão em todo o conjunto de dados de treinamento.\r\n",
        "\r\n",
        "*   Como a floresta aleatória, o algoritmo Extra Trees irá amostrar aleatoriamente os recursos em cada ponto de divisão de uma árvore de decisão."
      ]
    },
    {
      "cell_type": "markdown",
      "metadata": {
        "id": "seSYXM608tQr"
      },
      "source": [
        "<p align=\"justify\">\r\n",
        "\"O algoritmo Extra-Trees constrói um conjunto de árvores de decisão ou regressão não ajustadas de acordo com o procedimento clássico de cima para baixo. Suas duas principais diferenças com outros métodos de conjunto baseados em árvore são que ele divide os nós escolhendo pontos de corte totalmente ao acaso e que usa todo o exemplo de aprendizagem (em vez de uma réplica bootstrap) para fazer as árvores crescer.\"\r\n",
        "\r\n",
        "— Extremely Randomized Trees, 2006.\r\n",
        "\r\n",
        "</p>"
      ]
    },
    {
      "cell_type": "markdown",
      "metadata": {
        "id": "juWUfTlimpAL"
      },
      "source": [
        "*O modelo trabalhará com o método de **aprendizagem supervisionada**, onde a variável **target é \"Class\"**, que especifica o tipo de flor correspondente as características estabelecidas como variáveis preditoras. São estas: largura e comprimento da sépala e da pétala.*"
      ]
    },
    {
      "cell_type": "markdown",
      "metadata": {
        "id": "S-CmfA2NdhX_"
      },
      "source": [
        "**Separando as variáveis entre preditoras e variável alvo**"
      ]
    },
    {
      "cell_type": "markdown",
      "metadata": {
        "id": "-o41_i1CByvr"
      },
      "source": [
        "A varável **y** recebe a variável alvo e **x** recebe as variáveis preditoras."
      ]
    },
    {
      "cell_type": "code",
      "metadata": {
        "id": "-NECMJcSdg5s"
      },
      "source": [
        "y = df['class']\r\n",
        "x = df.drop('class', axis = 1)"
      ],
      "execution_count": null,
      "outputs": []
    },
    {
      "cell_type": "code",
      "metadata": {
        "colab": {
          "base_uri": "https://localhost:8080/"
        },
        "id": "UzQNBr2RqnUc",
        "outputId": "c2b08d87-9665-4d57-9622-b9c531a572ac"
      },
      "source": [
        "#class\r\n",
        "y.shape"
      ],
      "execution_count": null,
      "outputs": [
        {
          "output_type": "execute_result",
          "data": {
            "text/plain": [
              "(150,)"
            ]
          },
          "metadata": {
            "tags": []
          },
          "execution_count": 12
        }
      ]
    },
    {
      "cell_type": "code",
      "metadata": {
        "colab": {
          "base_uri": "https://localhost:8080/"
        },
        "id": "aOxqncWtqnF5",
        "outputId": "b43c3529-f8bb-40c3-a068-2001fc810343"
      },
      "source": [
        "#sepal_length, sepal_width,\tpetal_length,\tpetal_width\t\r\n",
        "x.shape"
      ],
      "execution_count": null,
      "outputs": [
        {
          "output_type": "execute_result",
          "data": {
            "text/plain": [
              "(150, 4)"
            ]
          },
          "metadata": {
            "tags": []
          },
          "execution_count": 13
        }
      ]
    },
    {
      "cell_type": "markdown",
      "metadata": {
        "id": "h-069Ju2d_TB"
      },
      "source": [
        "**Criando os conjuntos de dados de treino e teste**"
      ]
    },
    {
      "cell_type": "markdown",
      "metadata": {
        "id": "FNZp1f3QCARu"
      },
      "source": [
        "A função train_test_split é utilizada para calcular e fazer divisão aleatória em conjuntos de treinamento e teste de forma rápida e eficaz.\r\n",
        "\r\n",
        "\r\n",
        "\r\n",
        "*   70% dos dados são separados para Treino\r\n",
        "*   30% dos dados são separados para Teste\r\n",
        "*   random_state é setado para 1, embaralhando os dados 1 vez antes de aplicar a divisão dos dados\r\n",
        "*   stratify é setado para y, dividindo os dados de forma estratificada usando isso como rótulos de classe.\r\n",
        "\r\n"
      ]
    },
    {
      "cell_type": "code",
      "metadata": {
        "id": "2Os49_qpPb9K"
      },
      "source": [
        "x_treino, x_teste, y_treino, y_teste = train_test_split(x,y, random_state = 1, stratify =y, test_size = 0.3)"
      ],
      "execution_count": null,
      "outputs": []
    },
    {
      "cell_type": "code",
      "metadata": {
        "colab": {
          "base_uri": "https://localhost:8080/"
        },
        "id": "Q8cFzQ6vrRsl",
        "outputId": "13116024-f5a1-4381-c3d9-e087fdf286e6"
      },
      "source": [
        "#dados de treino - 70%\r\n",
        "x_treino.shape"
      ],
      "execution_count": null,
      "outputs": [
        {
          "output_type": "execute_result",
          "data": {
            "text/plain": [
              "(105, 4)"
            ]
          },
          "metadata": {
            "tags": []
          },
          "execution_count": 15
        }
      ]
    },
    {
      "cell_type": "code",
      "metadata": {
        "colab": {
          "base_uri": "https://localhost:8080/"
        },
        "id": "q3U58l_hrXpi",
        "outputId": "e28f22c4-9f0f-4bae-c36a-b01ca8681b43"
      },
      "source": [
        "#dados de teste - 30%\r\n",
        "x_teste.shape"
      ],
      "execution_count": null,
      "outputs": [
        {
          "output_type": "execute_result",
          "data": {
            "text/plain": [
              "(45, 4)"
            ]
          },
          "metadata": {
            "tags": []
          },
          "execution_count": 16
        }
      ]
    },
    {
      "cell_type": "markdown",
      "metadata": {
        "id": "Ic5sWBQqffFN"
      },
      "source": [
        "**Instanciando objeto classificador**"
      ]
    },
    {
      "cell_type": "code",
      "metadata": {
        "id": "4IlD17A2fiUG"
      },
      "source": [
        "modelo = ExtraTreesClassifier()"
      ],
      "execution_count": null,
      "outputs": []
    },
    {
      "cell_type": "markdown",
      "metadata": {
        "id": "MAL_6lO-o8mh"
      },
      "source": [
        "**Treinando modelo**"
      ]
    },
    {
      "cell_type": "code",
      "metadata": {
        "colab": {
          "base_uri": "https://localhost:8080/"
        },
        "id": "tLWQgb2Do76-",
        "outputId": "eb345df6-7bfe-406c-b2d6-c393c79e30c4"
      },
      "source": [
        "modelo.fit(x_treino, y_treino)"
      ],
      "execution_count": null,
      "outputs": [
        {
          "output_type": "execute_result",
          "data": {
            "text/plain": [
              "ExtraTreesClassifier(bootstrap=False, ccp_alpha=0.0, class_weight=None,\n",
              "                     criterion='gini', max_depth=None, max_features='auto',\n",
              "                     max_leaf_nodes=None, max_samples=None,\n",
              "                     min_impurity_decrease=0.0, min_impurity_split=None,\n",
              "                     min_samples_leaf=1, min_samples_split=2,\n",
              "                     min_weight_fraction_leaf=0.0, n_estimators=100,\n",
              "                     n_jobs=None, oob_score=False, random_state=None, verbose=0,\n",
              "                     warm_start=False)"
            ]
          },
          "metadata": {
            "tags": []
          },
          "execution_count": 222
        }
      ]
    },
    {
      "cell_type": "markdown",
      "metadata": {
        "id": "yrtJGR1epIWu"
      },
      "source": [
        "**Verificando as features mais relevantes para o modelo treinado**\r\n"
      ]
    },
    {
      "cell_type": "code",
      "metadata": {
        "colab": {
          "base_uri": "https://localhost:8080/"
        },
        "id": "iDguaxV6pFyY",
        "outputId": "a36a85d6-fdf7-4a19-88c8-4a53d0811e19"
      },
      "source": [
        "modelo.feature_importances_"
      ],
      "execution_count": null,
      "outputs": [
        {
          "output_type": "execute_result",
          "data": {
            "text/plain": [
              "array([0.10702059, 0.07004378, 0.38248177, 0.44045386])"
            ]
          },
          "metadata": {
            "tags": []
          },
          "execution_count": 223
        }
      ]
    },
    {
      "cell_type": "code",
      "metadata": {
        "colab": {
          "base_uri": "https://localhost:8080/"
        },
        "id": "nGjRYRohpRmA",
        "outputId": "093004cc-f8b0-439b-a85b-71faf5677b82"
      },
      "source": [
        "for feature, importancia in zip(df.columns, modelo.feature_importances_):\r\n",
        "   print('{}:{}'.format(feature, importancia))"
      ],
      "execution_count": null,
      "outputs": [
        {
          "output_type": "stream",
          "text": [
            "sepal_length:0.10702058863285369\n",
            "sepal_width:0.07004377945920529\n",
            "petal_length:0.38248177302519554\n",
            "petal_width:0.4404538588827455\n"
          ],
          "name": "stdout"
        }
      ]
    },
    {
      "cell_type": "markdown",
      "metadata": {
        "id": "Ry6O2q2hsi4m"
      },
      "source": [
        "**Features:** petal_width e petal_length"
      ]
    },
    {
      "cell_type": "markdown",
      "metadata": {
        "id": "QfVGPVl11q-Q"
      },
      "source": [
        "<p align=\"justify\">\r\n",
        "\r\n",
        "Dentre os atributos utlizados como variavéis preditoras, a largura e o comprimento da pétala demonstram ser as features que possuem maior representatividade e relevância para o modelo, determinando o rótulo de saída de acordo com a Floresta Árvores Extras construída.\r\n",
        "\r\n",
        "</p>"
      ]
    },
    {
      "cell_type": "markdown",
      "metadata": {
        "id": "Tp74azD8kiyp"
      },
      "source": [
        "**Fazendo predição do conjunto de dados de teste**"
      ]
    },
    {
      "cell_type": "markdown",
      "metadata": {
        "id": "XG-jVZ8-HRJb"
      },
      "source": [
        "<p align=\"justify\">\r\n",
        "\r\n",
        "Após treino e apredizagem, é realizado o teste do modelo com o conjunto de dados separado para teste, possibilitando análise de seu aprendizado e seus resultados.\r\n",
        "</p>"
      ]
    },
    {
      "cell_type": "code",
      "metadata": {
        "id": "QFjSFQXHkCQ-"
      },
      "source": [
        "y_pred = modelo.predict(x_teste)"
      ],
      "execution_count": null,
      "outputs": []
    },
    {
      "cell_type": "markdown",
      "metadata": {
        "id": "JQl_f1cTMh2q"
      },
      "source": [
        "*Este método retorna as predições dos dados de teste.*"
      ]
    },
    {
      "cell_type": "markdown",
      "metadata": {
        "id": "5mb8KX950ihW"
      },
      "source": [
        "#**Avaliação**"
      ]
    },
    {
      "cell_type": "markdown",
      "metadata": {
        "id": "IZSNjQDmkzsU"
      },
      "source": [
        "**Relatório de Classificação**"
      ]
    },
    {
      "cell_type": "markdown",
      "metadata": {
        "id": "TnNmiIn0Wmpg"
      },
      "source": [
        "*    A avaliação do resultado do modelo é feita através das métricas accuracy, recall e F1.\r\n",
        "*   Como os dados não estão desbalanceados a acurácia pode ser usada para avaliar a assertividade do modelo."
      ]
    },
    {
      "cell_type": "code",
      "metadata": {
        "colab": {
          "base_uri": "https://localhost:8080/"
        },
        "id": "PaWtCFmXkOB0",
        "outputId": "637ccd28-2e7a-4422-b6a1-ccde395b0bd9"
      },
      "source": [
        "print(classification_report(y_teste, y_pred))"
      ],
      "execution_count": null,
      "outputs": [
        {
          "output_type": "stream",
          "text": [
            "              precision    recall  f1-score   support\n",
            "\n",
            "           1       1.00      1.00      1.00        15\n",
            "           2       0.94      1.00      0.97        15\n",
            "           3       1.00      0.93      0.97        15\n",
            "\n",
            "    accuracy                           0.98        45\n",
            "   macro avg       0.98      0.98      0.98        45\n",
            "weighted avg       0.98      0.98      0.98        45\n",
            "\n"
          ],
          "name": "stdout"
        }
      ]
    },
    {
      "cell_type": "code",
      "metadata": {
        "colab": {
          "base_uri": "https://localhost:8080/"
        },
        "id": "soLtiVKNuZD2",
        "outputId": "10313ba8-857b-46cc-bdb4-77fa644034ea"
      },
      "source": [
        "print('Score da métrica Accuracy {:.1f}%'.format(100 * accuracy_score(y_teste, y_pred)))\r\n",
        "print('Score da métrica recall {:.1f}%'.format(100 * recall_score(y_teste, y_pred, average = 'micro')))\r\n",
        "print('Score da métrica F1 {:.1f}%'.format(100 * f1_score(y_teste, y_pred, average = 'micro')))"
      ],
      "execution_count": null,
      "outputs": [
        {
          "output_type": "stream",
          "text": [
            "Score da métrica Accuracy 97.8%\n",
            "Score da métrica recall 97.8%\n",
            "Score da métrica F1 97.8%\n"
          ],
          "name": "stdout"
        }
      ]
    },
    {
      "cell_type": "markdown",
      "metadata": {
        "id": "7hc0aK8_kunN"
      },
      "source": [
        "<p align=\"justify\">\r\n",
        "\r\n",
        "*   O modelo mostrou alta acurácia com 97.8% de assertividade e precisão na classificação dos dados, e também uma média de 97.8%  nas demais métricas de avaliação Recall e F1, indicando que o modelo está classificando muito bem.\r\n",
        "*   Observe-se que o Recall mostrou um resultado mais verídico no relato do real comportamento do modelo, como pode ser observado com mais detalhe através da matriz de confusão, apresentando 100% de assertividade ao classificar as classes 1 e 2 e 93% ao classificar a classe 3.\r\n",
        "\r\n",
        "\r\n",
        "\r\n",
        "**Observação:** *Após setados os atributos random_state = 1 e stratify =y na função train_test_split, que servem respectivamente para controlar o embaralhamento aplicado aos dados antes de aplicar a divisão, e dividir os dados de forma estratificada usando isso como rótulos de classe, a acurácia aumentou significativamente de 93% para 97.8% melhorando a precisão do modelo.*\r\n",
        "</p>\r\n",
        "\r\n",
        "\r\n"
      ]
    },
    {
      "cell_type": "markdown",
      "metadata": {
        "id": "MIf4kMqUnvqt"
      },
      "source": [
        "**Matriz de Confusão**"
      ]
    },
    {
      "cell_type": "code",
      "metadata": {
        "colab": {
          "base_uri": "https://localhost:8080/"
        },
        "id": "JCHaUOqXkW8n",
        "outputId": "4985fc10-ad83-49b5-ea9f-684457d95260"
      },
      "source": [
        "print(pd.crosstab(y_teste, y_pred, rownames=['Real'], colnames=['Predito'], margins=True ))"
      ],
      "execution_count": null,
      "outputs": [
        {
          "output_type": "stream",
          "text": [
            "Predito   1   2   3  All\n",
            "Real                    \n",
            "1        15   0   0   15\n",
            "2         0  15   0   15\n",
            "3         0   1  14   15\n",
            "All      15  16  14   45\n"
          ],
          "name": "stdout"
        }
      ]
    },
    {
      "cell_type": "code",
      "metadata": {
        "colab": {
          "base_uri": "https://localhost:8080/",
          "height": 333
        },
        "id": "XY0da4bWquxx",
        "outputId": "1ff5d7c7-2fe1-4692-917e-a413696de991"
      },
      "source": [
        "mc = cm(y_teste,y_pred )\r\n",
        "print(mc)\r\n",
        "labels = ['iris-setosa', 'iris-versicolor', 'iris-virginic']\r\n",
        "labels = np.array(labels)\r\n",
        "sns.heatmap(mc,annot=True, yticklabels=labels,\r\n",
        "            xticklabels= labels,cmap = 'Blues')"
      ],
      "execution_count": null,
      "outputs": [
        {
          "output_type": "stream",
          "text": [
            "[[15  0  0]\n",
            " [ 0 15  0]\n",
            " [ 0  1 14]]\n"
          ],
          "name": "stdout"
        },
        {
          "output_type": "execute_result",
          "data": {
            "text/plain": [
              "<matplotlib.axes._subplots.AxesSubplot at 0x7f16add754e0>"
            ]
          },
          "metadata": {
            "tags": []
          },
          "execution_count": 230
        },
        {
          "output_type": "display_data",
          "data": {
            "image/png": "[encoded data removed]",
            "text/plain": [
              "<Figure size 432x288 with 2 Axes>"
            ]
          },
          "metadata": {
            "tags": [],
            "needs_background": "light"
          }
        }
      ]
    },
    {
      "cell_type": "markdown",
      "metadata": {
        "id": "brqomiYeJlX0"
      },
      "source": [
        "Através da matriz de confusão é possível analisar o comportamento do modelo e seus resultados com mais detalhe:\r\n",
        "\r\n",
        "\r\n",
        "*   Na classe 1, Iris Setosa, o modelo teve 100% de acerto na classificação, não gerando nenhum falso positivo ou falso negativo, classificando as 15 amostras de Iris Setosa corretamente.\r\n",
        "\r\n",
        "*   Na classe 2, Iris Versicolor, o modelo teve 100% de acerto na classificação, não gerando nenhum falso positivo ou falso negativo, classificando as 15 amostras de Iris Versicolor corretamente.\r\n",
        "\r\n",
        "*   Na classe 3, Iris Virginic, o modelo errou gerando um falso negativo ao classificar a Iris Virginic como Iris Versocolor. Porém teve 93% de acerto, como mostra a métrica Recall no relatório de classificação,permanecendo com alta assertividade, classificando 14 amostras corretamente.\r\n",
        "\r\n",
        "\r\n",
        "\r\n",
        "\r\n"
      ]
    },
    {
      "cell_type": "markdown",
      "metadata": {
        "id": "8b4AeuKBYodM"
      },
      "source": [
        "#**Conclusão**"
      ]
    },
    {
      "cell_type": "markdown",
      "metadata": {
        "id": "SnYu2mLNYrsQ"
      },
      "source": [
        "\r\n",
        "<p align=\"justify\">\r\n",
        "Tendo em vista a análise dos resultados e análises feitas em todas as etapas do processo de construção do modelo, é possível concluir que o modelo Extra Trees Classifier se mostrou um ótimo modelo para classificação, inclusive neste  cenário, apresentando alta acurácia com o valor de 97.8%, indicando ótima precisão na predição de espécies de iris. \r\n",
        "\r\n",
        "Este resultado foi possível após ajustes feitos nos parâmetros da função train_test_split, onde determinou-se o número de aleatoriedade dos dados antes da divisão entre os de teste e de treino, e a divisão destes de forma estratificada. Observou-se que ao deixar os parâmetros com os valores padrões o modelo teve uma acurácia de 93%, e ao aumentar o valor do random_state com valores a partir de 5, a acurácia começou a diminuir apresentando valores de 91% a 88%.\r\n",
        "\r\n",
        "Para melhores resultados são sugeridos ajustes nos parâmetros do algoritmo Extra Trees Classifier e na função train_test_split. E também pode-se optar por realização de testes com outros algoritmos que apresentam ótimos resultados em classificações como Random Forest ou Bagging, os quais são similares ao Extra Trees Classifier, mas tem suas árvores construídas de forma diferente desenvolvendo cada árvore de decisão a partir de uma amostra de bootstrap, enquanto o algoritmo Extra Trees Classifier ajusta cada árvore de decisão em todo o conjunto de dados de treinamento, realizando previsões por votação majoritária de árvores de decisão.  </p>"
      ]
    }
  ]
}